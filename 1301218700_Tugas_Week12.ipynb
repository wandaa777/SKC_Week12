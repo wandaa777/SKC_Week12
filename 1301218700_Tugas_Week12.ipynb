{
  "nbformat": 4,
  "nbformat_minor": 0,
  "metadata": {
    "colab": {
      "provenance": []
    },
    "kernelspec": {
      "name": "python3",
      "display_name": "Python 3"
    },
    "language_info": {
      "name": "python"
    }
  },
  "cells": [
    {
      "cell_type": "code",
      "execution_count": 36,
      "metadata": {
        "colab": {
          "base_uri": "https://localhost:8080/"
        },
        "id": "KmZFcN10Vjx4",
        "outputId": "084bfbb4-d2cc-40ed-c556-8c8f5ffabc4d"
      },
      "outputs": [
        {
          "output_type": "stream",
          "name": "stdout",
          "text": [
            "Requirement already satisfied: pefile in /usr/local/lib/python3.10/dist-packages (2023.2.7)\n"
          ]
        }
      ],
      "source": [
        "# Instal pefile\n",
        "!pip install pefile"
      ]
    },
    {
      "cell_type": "code",
      "source": [
        "# Import library\n",
        "import pandas as pd\n",
        "import pefile"
      ],
      "metadata": {
        "id": "hUHtLa4fh1T7"
      },
      "execution_count": 37,
      "outputs": []
    },
    {
      "cell_type": "code",
      "source": [
        "# Load dataset\n",
        "malData = pd.read_csv(\"MalwareData.csv\", sep=\"|\")\n",
        "\n",
        "# Pisahkan dataset menjadi legit dan malware\n",
        "legit = malData.iloc[0:41323].drop([\"legitimate\"], axis=1)\n",
        "mal = malData.iloc[41323::].drop([\"legitimate\"], axis=1)\n",
        "\n",
        "# Tampilkan bentuk dataset\n",
        "print(\"The shape of the legit dataset is: %s samples, %s features\" % (legit.shape[0], legit.shape[1]))\n",
        "print(\"The shape of the malware dataset is: %s samples, %s features\" % (mal.shape[0], mal.shape[1]))"
      ],
      "metadata": {
        "colab": {
          "base_uri": "https://localhost:8080/"
        },
        "id": "A15P-sjMh4B0",
        "outputId": "bfa07c0c-5b5a-4cb0-b541-94e785c1c9cc"
      },
      "execution_count": 38,
      "outputs": [
        {
          "output_type": "stream",
          "name": "stdout",
          "text": [
            "The shape of the legit dataset is: 41323 samples, 56 features\n",
            "The shape of the malware dataset is: 96724 samples, 56 features\n"
          ]
        }
      ]
    },
    {
      "cell_type": "code",
      "source": [
        "# Tampilkan nama kolom\n",
        "print(malData.columns)"
      ],
      "metadata": {
        "colab": {
          "base_uri": "https://localhost:8080/"
        },
        "id": "5a9f2V8aiJ4d",
        "outputId": "d416d43e-9443-490e-dbe9-a3a7f7822c97"
      },
      "execution_count": null,
      "outputs": [
        {
          "output_type": "stream",
          "name": "stdout",
          "text": [
            "Index(['Name', 'md5', 'Machine', 'SizeOfOptionalHeader', 'Characteristics',\n",
            "       'MajorLinkerVersion', 'MinorLinkerVersion', 'SizeOfCode',\n",
            "       'SizeOfInitializedData', 'SizeOfUninitializedData',\n",
            "       'AddressOfEntryPoint', 'BaseOfCode', 'BaseOfData', 'ImageBase',\n",
            "       'SectionAlignment', 'FileAlignment', 'MajorOperatingSystemVersion',\n",
            "       'MinorOperatingSystemVersion', 'MajorImageVersion', 'MinorImageVersion',\n",
            "       'MajorSubsystemVersion', 'MinorSubsystemVersion', 'SizeOfImage',\n",
            "       'SizeOfHeaders', 'CheckSum', 'Subsystem', 'DllCharacteristics',\n",
            "       'SizeOfStackReserve', 'SizeOfStackCommit', 'SizeOfHeapReserve',\n",
            "       'SizeOfHeapCommit', 'LoaderFlags', 'NumberOfRvaAndSizes', 'SectionsNb',\n",
            "       'SectionsMeanEntropy', 'SectionsMinEntropy', 'SectionsMaxEntropy',\n",
            "       'SectionsMeanRawsize', 'SectionsMinRawsize', 'SectionMaxRawsize',\n",
            "       'SectionsMeanVirtualsize', 'SectionsMinVirtualsize',\n",
            "       'SectionMaxVirtualsize', 'ImportsNbDLL', 'ImportsNb',\n",
            "       'ImportsNbOrdinal', 'ExportNb', 'ResourcesNb', 'ResourcesMeanEntropy',\n",
            "       'ResourcesMinEntropy', 'ResourcesMaxEntropy', 'ResourcesMeanSize',\n",
            "       'ResourcesMinSize', 'ResourcesMaxSize', 'LoadConfigurationSize',\n",
            "       'VersionInformationSize', 'legitimate'],\n",
            "      dtype='object')\n"
          ]
        }
      ]
    },
    {
      "cell_type": "code",
      "source": [
        "# Tampilkan lima baris pertama dataset\n",
        "print(malData.head(5))"
      ],
      "metadata": {
        "colab": {
          "base_uri": "https://localhost:8080/"
        },
        "id": "vgQanmHMi2LC",
        "outputId": "2005933b-ed23-4ef7-8924-45fa285353e8"
      },
      "execution_count": null,
      "outputs": [
        {
          "output_type": "stream",
          "name": "stdout",
          "text": [
            "           Name                               md5  Machine  \\\n",
            "0   memtest.exe  631ea355665f28d4707448e442fbf5b8      332   \n",
            "1       ose.exe  9d10f99a6712e28f8acd5641e3a7ea6b      332   \n",
            "2     setup.exe  4d92f518527353c0db88a70fddcfd390      332   \n",
            "3      DW20.EXE  a41e524f8d45f0074fd07805ff0c9b12      332   \n",
            "4  dwtrig20.exe  c87e561258f2f8650cef999bf643a731      332   \n",
            "\n",
            "   SizeOfOptionalHeader  Characteristics  MajorLinkerVersion  \\\n",
            "0                   224              258                   9   \n",
            "1                   224             3330                   9   \n",
            "2                   224             3330                   9   \n",
            "3                   224              258                   9   \n",
            "4                   224              258                   9   \n",
            "\n",
            "   MinorLinkerVersion  SizeOfCode  SizeOfInitializedData  \\\n",
            "0                   0      361984                 115712   \n",
            "1                   0      130560                  19968   \n",
            "2                   0      517120                 621568   \n",
            "3                   0      585728                 369152   \n",
            "4                   0      294912                 247296   \n",
            "\n",
            "   SizeOfUninitializedData  ...  ResourcesNb  ResourcesMeanEntropy  \\\n",
            "0                        0  ...            4              3.262823   \n",
            "1                        0  ...            2              4.250461   \n",
            "2                        0  ...           11              4.426324   \n",
            "3                        0  ...           10              4.364291   \n",
            "4                        0  ...            2              4.306100   \n",
            "\n",
            "   ResourcesMinEntropy  ResourcesMaxEntropy  ResourcesMeanSize  \\\n",
            "0             2.568844             3.537939        8797.000000   \n",
            "1             3.420744             5.080177         837.000000   \n",
            "2             2.846449             5.271813       31102.272727   \n",
            "3             2.669314             6.400720        1457.000000   \n",
            "4             3.421598             5.190603        1074.500000   \n",
            "\n",
            "   ResourcesMinSize  ResourcesMaxSize  LoadConfigurationSize  \\\n",
            "0               216             18032                      0   \n",
            "1               518              1156                     72   \n",
            "2               104            270376                     72   \n",
            "3                90              4264                     72   \n",
            "4               849              1300                     72   \n",
            "\n",
            "   VersionInformationSize  legitimate  \n",
            "0                      16           1  \n",
            "1                      18           1  \n",
            "2                      18           1  \n",
            "3                      18           1  \n",
            "4                      18           1  \n",
            "\n",
            "[5 rows x 57 columns]\n"
          ]
        }
      ]
    },
    {
      "cell_type": "code",
      "source": [
        "# Set opsi untuk menampilkan semua kolom\n",
        "pd.set_option(\"display.max_columns\", None)"
      ],
      "metadata": {
        "id": "FYvCn7I1jCi_"
      },
      "execution_count": null,
      "outputs": []
    },
    {
      "cell_type": "code",
      "source": [
        "print(malData.head(5))"
      ],
      "metadata": {
        "colab": {
          "base_uri": "https://localhost:8080/"
        },
        "id": "KSJCxblFjIEZ",
        "outputId": "66e759e8-5609-44e8-ea0c-a7e239205ce5"
      },
      "execution_count": null,
      "outputs": [
        {
          "output_type": "stream",
          "name": "stdout",
          "text": [
            "           Name                               md5  Machine  \\\n",
            "0   memtest.exe  631ea355665f28d4707448e442fbf5b8      332   \n",
            "1       ose.exe  9d10f99a6712e28f8acd5641e3a7ea6b      332   \n",
            "2     setup.exe  4d92f518527353c0db88a70fddcfd390      332   \n",
            "3      DW20.EXE  a41e524f8d45f0074fd07805ff0c9b12      332   \n",
            "4  dwtrig20.exe  c87e561258f2f8650cef999bf643a731      332   \n",
            "\n",
            "   SizeOfOptionalHeader  Characteristics  MajorLinkerVersion  \\\n",
            "0                   224              258                   9   \n",
            "1                   224             3330                   9   \n",
            "2                   224             3330                   9   \n",
            "3                   224              258                   9   \n",
            "4                   224              258                   9   \n",
            "\n",
            "   MinorLinkerVersion  SizeOfCode  SizeOfInitializedData  \\\n",
            "0                   0      361984                 115712   \n",
            "1                   0      130560                  19968   \n",
            "2                   0      517120                 621568   \n",
            "3                   0      585728                 369152   \n",
            "4                   0      294912                 247296   \n",
            "\n",
            "   SizeOfUninitializedData  AddressOfEntryPoint  BaseOfCode  BaseOfData  \\\n",
            "0                        0                 6135        4096      372736   \n",
            "1                        0                81778        4096      143360   \n",
            "2                        0               350896        4096      811008   \n",
            "3                        0               451258        4096      798720   \n",
            "4                        0               217381        4096      536576   \n",
            "\n",
            "     ImageBase  SectionAlignment  FileAlignment  MajorOperatingSystemVersion  \\\n",
            "0    4194304.0              4096            512                            0   \n",
            "1  771751936.0              4096            512                            5   \n",
            "2  771751936.0              4096            512                            5   \n",
            "3  771751936.0              4096            512                            5   \n",
            "4  771751936.0              4096            512                            5   \n",
            "\n",
            "   MinorOperatingSystemVersion  MajorImageVersion  MinorImageVersion  \\\n",
            "0                            0                  0                  0   \n",
            "1                            1                  0                  0   \n",
            "2                            1                  0                  0   \n",
            "3                            1                  0                  0   \n",
            "4                            1                  0                  0   \n",
            "\n",
            "   MajorSubsystemVersion  MinorSubsystemVersion  SizeOfImage  SizeOfHeaders  \\\n",
            "0                      1                      0      1036288           1024   \n",
            "1                      5                      1       159744           1024   \n",
            "2                      5                      1      1150976           1024   \n",
            "3                      5                      1       962560           1024   \n",
            "4                      5                      1       552960           1024   \n",
            "\n",
            "   CheckSum  Subsystem  DllCharacteristics  SizeOfStackReserve  \\\n",
            "0    485887         16                1024             1048576   \n",
            "1    188943          2               33088             1048576   \n",
            "2   1159817          2               32832             1048576   \n",
            "3    867570          2               33088             1048576   \n",
            "4    579287          2               33088             1048576   \n",
            "\n",
            "   SizeOfStackCommit  SizeOfHeapReserve  SizeOfHeapCommit  LoaderFlags  \\\n",
            "0               4096            1048576              4096            0   \n",
            "1               4096            1048576              4096            0   \n",
            "2               4096            1048576              4096            0   \n",
            "3               4096            1048576              4096            0   \n",
            "4               4096            1048576              4096            0   \n",
            "\n",
            "   NumberOfRvaAndSizes  SectionsNb  SectionsMeanEntropy  SectionsMinEntropy  \\\n",
            "0                   16           8             5.766807            3.607430   \n",
            "1                   16           4             4.839688            2.373525   \n",
            "2                   16           4             6.409558            4.885191   \n",
            "3                   16           4             6.641731            5.642565   \n",
            "4                   16           4             6.252684            4.182282   \n",
            "\n",
            "   SectionsMaxEntropy  SectionsMeanRawsize  SectionsMinRawsize  \\\n",
            "0            7.221051              59712.0                1024   \n",
            "1            6.566909              35584.0                2048   \n",
            "2            7.600957             273408.0               21504   \n",
            "3            7.594929             207872.0               15360   \n",
            "4            7.608305             128128.0                2560   \n",
            "\n",
            "   SectionMaxRawsize  SectionsMeanVirtualsize  SectionsMinVirtualsize  \\\n",
            "0             325120               126875.875                     896   \n",
            "1             130560                37322.000                    1840   \n",
            "2             517120               284498.000                   21456   \n",
            "3             585728               238502.000                   15208   \n",
            "4             294912               135350.000                    2320   \n",
            "\n",
            "   SectionMaxVirtualsize  ImportsNbDLL  ImportsNb  ImportsNbOrdinal  ExportNb  \\\n",
            "0                 551848             0          0                 0         0   \n",
            "1                 130296             7        181                 0         0   \n",
            "2                 516760            14        235                21         1   \n",
            "3                 585488            15        360                 6         1   \n",
            "4                 294816            10        194                 4         1   \n",
            "\n",
            "   ResourcesNb  ResourcesMeanEntropy  ResourcesMinEntropy  \\\n",
            "0            4              3.262823             2.568844   \n",
            "1            2              4.250461             3.420744   \n",
            "2           11              4.426324             2.846449   \n",
            "3           10              4.364291             2.669314   \n",
            "4            2              4.306100             3.421598   \n",
            "\n",
            "   ResourcesMaxEntropy  ResourcesMeanSize  ResourcesMinSize  ResourcesMaxSize  \\\n",
            "0             3.537939        8797.000000               216             18032   \n",
            "1             5.080177         837.000000               518              1156   \n",
            "2             5.271813       31102.272727               104            270376   \n",
            "3             6.400720        1457.000000                90              4264   \n",
            "4             5.190603        1074.500000               849              1300   \n",
            "\n",
            "   LoadConfigurationSize  VersionInformationSize  legitimate  \n",
            "0                      0                      16           1  \n",
            "1                     72                      18           1  \n",
            "2                     72                      18           1  \n",
            "3                     72                      18           1  \n",
            "4                     72                      18           1  \n"
          ]
        }
      ]
    },
    {
      "cell_type": "code",
      "source": [
        "# Visual Inspection\n",
        "print(legit.take([1]))"
      ],
      "metadata": {
        "colab": {
          "base_uri": "https://localhost:8080/"
        },
        "id": "m5EOJmK_jJSi",
        "outputId": "123793cb-39b1-42ec-e75c-715d83bd107c"
      },
      "execution_count": 39,
      "outputs": [
        {
          "output_type": "stream",
          "name": "stdout",
          "text": [
            "      Name                               md5  Machine  SizeOfOptionalHeader  \\\n",
            "1  ose.exe  9d10f99a6712e28f8acd5641e3a7ea6b      332                   224   \n",
            "\n",
            "   Characteristics  MajorLinkerVersion  MinorLinkerVersion  SizeOfCode  \\\n",
            "1             3330                   9                   0      130560   \n",
            "\n",
            "   SizeOfInitializedData  SizeOfUninitializedData  AddressOfEntryPoint  \\\n",
            "1                  19968                        0                81778   \n",
            "\n",
            "   BaseOfCode  BaseOfData    ImageBase  SectionAlignment  FileAlignment  \\\n",
            "1        4096      143360  771751936.0              4096            512   \n",
            "\n",
            "   MajorOperatingSystemVersion  MinorOperatingSystemVersion  \\\n",
            "1                            5                            1   \n",
            "\n",
            "   MajorImageVersion  MinorImageVersion  MajorSubsystemVersion  \\\n",
            "1                  0                  0                      5   \n",
            "\n",
            "   MinorSubsystemVersion  SizeOfImage  SizeOfHeaders  CheckSum  Subsystem  \\\n",
            "1                      1       159744           1024    188943          2   \n",
            "\n",
            "   DllCharacteristics  SizeOfStackReserve  SizeOfStackCommit  \\\n",
            "1               33088             1048576               4096   \n",
            "\n",
            "   SizeOfHeapReserve  SizeOfHeapCommit  LoaderFlags  NumberOfRvaAndSizes  \\\n",
            "1            1048576              4096            0                   16   \n",
            "\n",
            "   SectionsNb  SectionsMeanEntropy  SectionsMinEntropy  SectionsMaxEntropy  \\\n",
            "1           4             4.839688            2.373525            6.566909   \n",
            "\n",
            "   SectionsMeanRawsize  SectionsMinRawsize  SectionMaxRawsize  \\\n",
            "1              35584.0                2048             130560   \n",
            "\n",
            "   SectionsMeanVirtualsize  SectionsMinVirtualsize  SectionMaxVirtualsize  \\\n",
            "1                  37322.0                    1840                 130296   \n",
            "\n",
            "   ImportsNbDLL  ImportsNb  ImportsNbOrdinal  ExportNb  ResourcesNb  \\\n",
            "1             7        181                 0         0            2   \n",
            "\n",
            "   ResourcesMeanEntropy  ResourcesMinEntropy  ResourcesMaxEntropy  \\\n",
            "1              4.250461             3.420744             5.080177   \n",
            "\n",
            "   ResourcesMeanSize  ResourcesMinSize  ResourcesMaxSize  \\\n",
            "1              837.0               518              1156   \n",
            "\n",
            "   LoadConfigurationSize  VersionInformationSize  \n",
            "1                     72                      18  \n"
          ]
        }
      ]
    },
    {
      "cell_type": "code",
      "source": [
        "print(mal.take([1]))"
      ],
      "metadata": {
        "colab": {
          "base_uri": "https://localhost:8080/"
        },
        "id": "0h-NniKSjy2j",
        "outputId": "695119f1-c674-4abf-9625-f2d284e7a10f"
      },
      "execution_count": null,
      "outputs": [
        {
          "output_type": "stream",
          "name": "stdout",
          "text": [
            "                                              Name  \\\n",
            "41324  VirusShare_9bd57c8252948bd2fa651ad372bd4f13   \n",
            "\n",
            "                                    md5  Machine  SizeOfOptionalHeader  \\\n",
            "41324  9bd57c8252948bd2fa651ad372bd4f13      332                   224   \n",
            "\n",
            "       Characteristics  MajorLinkerVersion  MinorLinkerVersion  SizeOfCode  \\\n",
            "41324              271                   6                   0       24064   \n",
            "\n",
            "       SizeOfInitializedData  SizeOfUninitializedData  AddressOfEntryPoint  \\\n",
            "41324                 164864                     1024                12538   \n",
            "\n",
            "       BaseOfCode  BaseOfData  ImageBase  SectionAlignment  FileAlignment  \\\n",
            "41324        4096       28672  4194304.0              4096            512   \n",
            "\n",
            "       MajorOperatingSystemVersion  MinorOperatingSystemVersion  \\\n",
            "41324                            4                            0   \n",
            "\n",
            "       MajorImageVersion  MinorImageVersion  MajorSubsystemVersion  \\\n",
            "41324                  6                  0                      4   \n",
            "\n",
            "       MinorSubsystemVersion  SizeOfImage  SizeOfHeaders  CheckSum  Subsystem  \\\n",
            "41324                      0       241664           1024         0          2   \n",
            "\n",
            "       DllCharacteristics  SizeOfStackReserve  SizeOfStackCommit  \\\n",
            "41324               32768             1048576               4096   \n",
            "\n",
            "       SizeOfHeapReserve  SizeOfHeapCommit  LoaderFlags  NumberOfRvaAndSizes  \\\n",
            "41324            1048576              4096            0                   16   \n",
            "\n",
            "       SectionsNb  SectionsMeanEntropy  SectionsMinEntropy  \\\n",
            "41324           5             4.104541                 0.0   \n",
            "\n",
            "       SectionsMaxEntropy  SectionsMeanRawsize  SectionsMinRawsize  \\\n",
            "41324            6.440106               6758.4                   0   \n",
            "\n",
            "       SectionMaxRawsize  SectionsMeanVirtualsize  SectionsMinVirtualsize  \\\n",
            "41324              24064                  46260.8                    3144   \n",
            "\n",
            "       SectionMaxVirtualsize  ImportsNbDLL  ImportsNb  ImportsNbOrdinal  \\\n",
            "41324                 154712             8        155                 1   \n",
            "\n",
            "       ExportNb  ResourcesNb  ResourcesMeanEntropy  ResourcesMinEntropy  \\\n",
            "41324         0            6              3.199107             1.971335   \n",
            "\n",
            "       ResourcesMaxEntropy  ResourcesMeanSize  ResourcesMinSize  \\\n",
            "41324             5.214816              452.0                34   \n",
            "\n",
            "       ResourcesMaxSize  LoadConfigurationSize  VersionInformationSize  \n",
            "41324               958                      0                      15  \n"
          ]
        }
      ]
    },
    {
      "cell_type": "markdown",
      "source": [
        "# **Tree Classifier**"
      ],
      "metadata": {
        "id": "0vIaEX6bkD5V"
      }
    },
    {
      "cell_type": "code",
      "source": [
        "from sklearn.ensemble import ExtraTreesClassifier\n",
        "from sklearn.feature_selection import SelectFromModel"
      ],
      "metadata": {
        "id": "lq-duH3hkJPH"
      },
      "execution_count": 42,
      "outputs": []
    },
    {
      "cell_type": "code",
      "source": [
        "data_in = malData.drop(['Name', 'md5', 'legitimate'], axis=1).values\n",
        "labels = malData['legitimate'].values\n",
        "\n",
        "extratrees = ExtraTreesClassifier().fit(data_in, labels)\n",
        "\n",
        "select = SelectFromModel(extratrees, prefit=True)\n",
        "data_in_new = select.transform(data_in)\n",
        "print(data_in.shape, data_in_new.shape)\n"
      ],
      "metadata": {
        "colab": {
          "base_uri": "https://localhost:8080/"
        },
        "id": "whmjEsSbkW_8",
        "outputId": "e475fda9-a743-4283-cf44-afb3564ea000"
      },
      "execution_count": null,
      "outputs": [
        {
          "output_type": "stream",
          "name": "stdout",
          "text": [
            "(138047, 54) (138047, 14)\n"
          ]
        }
      ]
    },
    {
      "cell_type": "code",
      "source": [
        "# Menampilkan tingkat kepentingan fitur\n",
        "features = data_in_new.shape[1]\n",
        "importances = extratrees.feature_importances_\n",
        "indices = np.argsort(importances)[::-1]\n",
        "\n",
        "for f in range(features):\n",
        "    print(\"%d. %s (%f)\" % (f + 1, malData.columns[2 + indices[f]], importances[indices[f]]))\n"
      ],
      "metadata": {
        "colab": {
          "base_uri": "https://localhost:8080/"
        },
        "id": "2RGs_2kCkdU6",
        "outputId": "9c3c734e-215d-4507-e4d2-560e5de1ea3b"
      },
      "execution_count": null,
      "outputs": [
        {
          "output_type": "stream",
          "name": "stdout",
          "text": [
            "1. DllCharacteristics (0.140705)\n",
            "2. Machine (0.117413)\n",
            "3. Characteristics (0.094883)\n",
            "4. SectionsMaxEntropy (0.067361)\n",
            "5. VersionInformationSize (0.058976)\n",
            "6. Subsystem (0.053861)\n",
            "7. ImageBase (0.051084)\n",
            "8. MajorSubsystemVersion (0.048412)\n",
            "9. ResourcesMaxEntropy (0.043692)\n",
            "10. SizeOfOptionalHeader (0.036031)\n",
            "11. MajorOperatingSystemVersion (0.028048)\n",
            "12. ResourcesMinEntropy (0.027046)\n",
            "13. SizeOfStackReserve (0.026903)\n",
            "14. ResourcesMinSize (0.018831)\n"
          ]
        }
      ]
    },
    {
      "cell_type": "code",
      "source": [
        "from sklearn.ensemble import RandomForestClassifier\n",
        "from sklearn.model_selection import train_test_split\n",
        "\n",
        "# Random Forest Classifier\n",
        "legit_train, legit_test, mal_train, mal_test = train_test_split(data_in_new, labels, test_size=0.2)\n",
        "classif = RandomForestClassifier(n_estimators=50)\n",
        "classif.fit(legit_train, mal_train)\n"
      ],
      "metadata": {
        "colab": {
          "base_uri": "https://localhost:8080/",
          "height": 74
        },
        "id": "5BHE-a8gk6x8",
        "outputId": "f07b9bc9-dd66-4910-f4b8-8e22c6c68e59"
      },
      "execution_count": 43,
      "outputs": [
        {
          "output_type": "execute_result",
          "data": {
            "text/plain": [
              "RandomForestClassifier(n_estimators=50)"
            ],
            "text/html": [
              "<style>#sk-container-id-4 {color: black;background-color: white;}#sk-container-id-4 pre{padding: 0;}#sk-container-id-4 div.sk-toggleable {background-color: white;}#sk-container-id-4 label.sk-toggleable__label {cursor: pointer;display: block;width: 100%;margin-bottom: 0;padding: 0.3em;box-sizing: border-box;text-align: center;}#sk-container-id-4 label.sk-toggleable__label-arrow:before {content: \"▸\";float: left;margin-right: 0.25em;color: #696969;}#sk-container-id-4 label.sk-toggleable__label-arrow:hover:before {color: black;}#sk-container-id-4 div.sk-estimator:hover label.sk-toggleable__label-arrow:before {color: black;}#sk-container-id-4 div.sk-toggleable__content {max-height: 0;max-width: 0;overflow: hidden;text-align: left;background-color: #f0f8ff;}#sk-container-id-4 div.sk-toggleable__content pre {margin: 0.2em;color: black;border-radius: 0.25em;background-color: #f0f8ff;}#sk-container-id-4 input.sk-toggleable__control:checked~div.sk-toggleable__content {max-height: 200px;max-width: 100%;overflow: auto;}#sk-container-id-4 input.sk-toggleable__control:checked~label.sk-toggleable__label-arrow:before {content: \"▾\";}#sk-container-id-4 div.sk-estimator input.sk-toggleable__control:checked~label.sk-toggleable__label {background-color: #d4ebff;}#sk-container-id-4 div.sk-label input.sk-toggleable__control:checked~label.sk-toggleable__label {background-color: #d4ebff;}#sk-container-id-4 input.sk-hidden--visually {border: 0;clip: rect(1px 1px 1px 1px);clip: rect(1px, 1px, 1px, 1px);height: 1px;margin: -1px;overflow: hidden;padding: 0;position: absolute;width: 1px;}#sk-container-id-4 div.sk-estimator {font-family: monospace;background-color: #f0f8ff;border: 1px dotted black;border-radius: 0.25em;box-sizing: border-box;margin-bottom: 0.5em;}#sk-container-id-4 div.sk-estimator:hover {background-color: #d4ebff;}#sk-container-id-4 div.sk-parallel-item::after {content: \"\";width: 100%;border-bottom: 1px solid gray;flex-grow: 1;}#sk-container-id-4 div.sk-label:hover label.sk-toggleable__label {background-color: #d4ebff;}#sk-container-id-4 div.sk-serial::before {content: \"\";position: absolute;border-left: 1px solid gray;box-sizing: border-box;top: 0;bottom: 0;left: 50%;z-index: 0;}#sk-container-id-4 div.sk-serial {display: flex;flex-direction: column;align-items: center;background-color: white;padding-right: 0.2em;padding-left: 0.2em;position: relative;}#sk-container-id-4 div.sk-item {position: relative;z-index: 1;}#sk-container-id-4 div.sk-parallel {display: flex;align-items: stretch;justify-content: center;background-color: white;position: relative;}#sk-container-id-4 div.sk-item::before, #sk-container-id-4 div.sk-parallel-item::before {content: \"\";position: absolute;border-left: 1px solid gray;box-sizing: border-box;top: 0;bottom: 0;left: 50%;z-index: -1;}#sk-container-id-4 div.sk-parallel-item {display: flex;flex-direction: column;z-index: 1;position: relative;background-color: white;}#sk-container-id-4 div.sk-parallel-item:first-child::after {align-self: flex-end;width: 50%;}#sk-container-id-4 div.sk-parallel-item:last-child::after {align-self: flex-start;width: 50%;}#sk-container-id-4 div.sk-parallel-item:only-child::after {width: 0;}#sk-container-id-4 div.sk-dashed-wrapped {border: 1px dashed gray;margin: 0 0.4em 0.5em 0.4em;box-sizing: border-box;padding-bottom: 0.4em;background-color: white;}#sk-container-id-4 div.sk-label label {font-family: monospace;font-weight: bold;display: inline-block;line-height: 1.2em;}#sk-container-id-4 div.sk-label-container {text-align: center;}#sk-container-id-4 div.sk-container {/* jupyter's `normalize.less` sets `[hidden] { display: none; }` but bootstrap.min.css set `[hidden] { display: none !important; }` so we also need the `!important` here to be able to override the default hidden behavior on the sphinx rendered scikit-learn.org. See: https://github.com/scikit-learn/scikit-learn/issues/21755 */display: inline-block !important;position: relative;}#sk-container-id-4 div.sk-text-repr-fallback {display: none;}</style><div id=\"sk-container-id-4\" class=\"sk-top-container\"><div class=\"sk-text-repr-fallback\"><pre>RandomForestClassifier(n_estimators=50)</pre><b>In a Jupyter environment, please rerun this cell to show the HTML representation or trust the notebook. <br />On GitHub, the HTML representation is unable to render, please try loading this page with nbviewer.org.</b></div><div class=\"sk-container\" hidden><div class=\"sk-item\"><div class=\"sk-estimator sk-toggleable\"><input class=\"sk-toggleable__control sk-hidden--visually\" id=\"sk-estimator-id-4\" type=\"checkbox\" checked><label for=\"sk-estimator-id-4\" class=\"sk-toggleable__label sk-toggleable__label-arrow\">RandomForestClassifier</label><div class=\"sk-toggleable__content\"><pre>RandomForestClassifier(n_estimators=50)</pre></div></div></div></div></div>"
            ]
          },
          "metadata": {},
          "execution_count": 43
        }
      ]
    },
    {
      "cell_type": "code",
      "source": [
        "print(\"The score of the algorithm: \", classif.score(legit_test, mal_test) * 100)"
      ],
      "metadata": {
        "colab": {
          "base_uri": "https://localhost:8080/"
        },
        "id": "s8v3no4OlULc",
        "outputId": "37af227a-14ed-4703-e3c5-567e98606566"
      },
      "execution_count": null,
      "outputs": [
        {
          "output_type": "stream",
          "name": "stdout",
          "text": [
            "The score of the algorithm:  99.4204998189062\n"
          ]
        }
      ]
    },
    {
      "cell_type": "code",
      "source": [
        "# Confusion Matrix\n",
        "from sklearn.metrics import confusion_matrix\n",
        "\n",
        "result = classif.predict(legit_test)\n",
        "conf_mat = confusion_matrix(mal_test, result)"
      ],
      "metadata": {
        "id": "3wBmbhv5leSy"
      },
      "execution_count": 44,
      "outputs": []
    },
    {
      "cell_type": "code",
      "source": [
        "conf_mat.shape"
      ],
      "metadata": {
        "colab": {
          "base_uri": "https://localhost:8080/"
        },
        "id": "CNoZyq4Ilrzg",
        "outputId": "8c487bc3-1697-4b40-ccbf-858a46a4654b"
      },
      "execution_count": null,
      "outputs": [
        {
          "output_type": "execute_result",
          "data": {
            "text/plain": [
              "(2, 2)"
            ]
          },
          "metadata": {},
          "execution_count": 24
        }
      ]
    },
    {
      "cell_type": "code",
      "source": [
        "type(conf_mat)"
      ],
      "metadata": {
        "colab": {
          "base_uri": "https://localhost:8080/"
        },
        "id": "A_o-vrVol5wN",
        "outputId": "cc6b6c55-740c-46dd-d4b3-78019a130560"
      },
      "execution_count": null,
      "outputs": [
        {
          "output_type": "execute_result",
          "data": {
            "text/plain": [
              "numpy.ndarray"
            ]
          },
          "metadata": {},
          "execution_count": 25
        }
      ]
    },
    {
      "cell_type": "code",
      "source": [
        "conf_mat"
      ],
      "metadata": {
        "colab": {
          "base_uri": "https://localhost:8080/"
        },
        "id": "rd-Eb8WHl_LC",
        "outputId": "54b34471-387c-4ad5-ed95-751b5ae73e1c"
      },
      "execution_count": null,
      "outputs": [
        {
          "output_type": "execute_result",
          "data": {
            "text/plain": [
              "array([[19168,    95],\n",
              "       [   65,  8282]])"
            ]
          },
          "metadata": {},
          "execution_count": 26
        }
      ]
    },
    {
      "cell_type": "code",
      "source": [
        "print(\"False positives: \", conf_mat[0][1] / sum(conf_mat[0]) * 100)\n",
        "print(\"False negatives: \", conf_mat[1][0] / sum(conf_mat[1]) * 100)\n"
      ],
      "metadata": {
        "colab": {
          "base_uri": "https://localhost:8080/"
        },
        "id": "m-J2c1UfmBoR",
        "outputId": "3b99013a-f047-4ab0-e870-7473d3e9dbea"
      },
      "execution_count": null,
      "outputs": [
        {
          "output_type": "stream",
          "name": "stdout",
          "text": [
            "False positives:  0.4931734413123605\n",
            "False negatives:  0.778722894453097\n"
          ]
        }
      ]
    },
    {
      "cell_type": "markdown",
      "source": [
        "# **Gradient Boosting**"
      ],
      "metadata": {
        "id": "HtMbQOjYmJ4Y"
      }
    },
    {
      "cell_type": "code",
      "source": [
        "from sklearn.ensemble import GradientBoostingClassifier\n",
        "\n",
        "grad_boost = GradientBoostingClassifier(n_estimators=50)\n",
        "grad_boost.fit(legit_train, mal_train)"
      ],
      "metadata": {
        "colab": {
          "base_uri": "https://localhost:8080/",
          "height": 74
        },
        "id": "AbAP5o6AmRmn",
        "outputId": "a8b363e1-df9f-4f6c-8b2d-ffddab6798f8"
      },
      "execution_count": null,
      "outputs": [
        {
          "output_type": "execute_result",
          "data": {
            "text/plain": [
              "GradientBoostingClassifier(n_estimators=50)"
            ],
            "text/html": [
              "<style>#sk-container-id-3 {color: black;background-color: white;}#sk-container-id-3 pre{padding: 0;}#sk-container-id-3 div.sk-toggleable {background-color: white;}#sk-container-id-3 label.sk-toggleable__label {cursor: pointer;display: block;width: 100%;margin-bottom: 0;padding: 0.3em;box-sizing: border-box;text-align: center;}#sk-container-id-3 label.sk-toggleable__label-arrow:before {content: \"▸\";float: left;margin-right: 0.25em;color: #696969;}#sk-container-id-3 label.sk-toggleable__label-arrow:hover:before {color: black;}#sk-container-id-3 div.sk-estimator:hover label.sk-toggleable__label-arrow:before {color: black;}#sk-container-id-3 div.sk-toggleable__content {max-height: 0;max-width: 0;overflow: hidden;text-align: left;background-color: #f0f8ff;}#sk-container-id-3 div.sk-toggleable__content pre {margin: 0.2em;color: black;border-radius: 0.25em;background-color: #f0f8ff;}#sk-container-id-3 input.sk-toggleable__control:checked~div.sk-toggleable__content {max-height: 200px;max-width: 100%;overflow: auto;}#sk-container-id-3 input.sk-toggleable__control:checked~label.sk-toggleable__label-arrow:before {content: \"▾\";}#sk-container-id-3 div.sk-estimator input.sk-toggleable__control:checked~label.sk-toggleable__label {background-color: #d4ebff;}#sk-container-id-3 div.sk-label input.sk-toggleable__control:checked~label.sk-toggleable__label {background-color: #d4ebff;}#sk-container-id-3 input.sk-hidden--visually {border: 0;clip: rect(1px 1px 1px 1px);clip: rect(1px, 1px, 1px, 1px);height: 1px;margin: -1px;overflow: hidden;padding: 0;position: absolute;width: 1px;}#sk-container-id-3 div.sk-estimator {font-family: monospace;background-color: #f0f8ff;border: 1px dotted black;border-radius: 0.25em;box-sizing: border-box;margin-bottom: 0.5em;}#sk-container-id-3 div.sk-estimator:hover {background-color: #d4ebff;}#sk-container-id-3 div.sk-parallel-item::after {content: \"\";width: 100%;border-bottom: 1px solid gray;flex-grow: 1;}#sk-container-id-3 div.sk-label:hover label.sk-toggleable__label {background-color: #d4ebff;}#sk-container-id-3 div.sk-serial::before {content: \"\";position: absolute;border-left: 1px solid gray;box-sizing: border-box;top: 0;bottom: 0;left: 50%;z-index: 0;}#sk-container-id-3 div.sk-serial {display: flex;flex-direction: column;align-items: center;background-color: white;padding-right: 0.2em;padding-left: 0.2em;position: relative;}#sk-container-id-3 div.sk-item {position: relative;z-index: 1;}#sk-container-id-3 div.sk-parallel {display: flex;align-items: stretch;justify-content: center;background-color: white;position: relative;}#sk-container-id-3 div.sk-item::before, #sk-container-id-3 div.sk-parallel-item::before {content: \"\";position: absolute;border-left: 1px solid gray;box-sizing: border-box;top: 0;bottom: 0;left: 50%;z-index: -1;}#sk-container-id-3 div.sk-parallel-item {display: flex;flex-direction: column;z-index: 1;position: relative;background-color: white;}#sk-container-id-3 div.sk-parallel-item:first-child::after {align-self: flex-end;width: 50%;}#sk-container-id-3 div.sk-parallel-item:last-child::after {align-self: flex-start;width: 50%;}#sk-container-id-3 div.sk-parallel-item:only-child::after {width: 0;}#sk-container-id-3 div.sk-dashed-wrapped {border: 1px dashed gray;margin: 0 0.4em 0.5em 0.4em;box-sizing: border-box;padding-bottom: 0.4em;background-color: white;}#sk-container-id-3 div.sk-label label {font-family: monospace;font-weight: bold;display: inline-block;line-height: 1.2em;}#sk-container-id-3 div.sk-label-container {text-align: center;}#sk-container-id-3 div.sk-container {/* jupyter's `normalize.less` sets `[hidden] { display: none; }` but bootstrap.min.css set `[hidden] { display: none !important; }` so we also need the `!important` here to be able to override the default hidden behavior on the sphinx rendered scikit-learn.org. See: https://github.com/scikit-learn/scikit-learn/issues/21755 */display: inline-block !important;position: relative;}#sk-container-id-3 div.sk-text-repr-fallback {display: none;}</style><div id=\"sk-container-id-3\" class=\"sk-top-container\"><div class=\"sk-text-repr-fallback\"><pre>GradientBoostingClassifier(n_estimators=50)</pre><b>In a Jupyter environment, please rerun this cell to show the HTML representation or trust the notebook. <br />On GitHub, the HTML representation is unable to render, please try loading this page with nbviewer.org.</b></div><div class=\"sk-container\" hidden><div class=\"sk-item\"><div class=\"sk-estimator sk-toggleable\"><input class=\"sk-toggleable__control sk-hidden--visually\" id=\"sk-estimator-id-3\" type=\"checkbox\" checked><label for=\"sk-estimator-id-3\" class=\"sk-toggleable__label sk-toggleable__label-arrow\">GradientBoostingClassifier</label><div class=\"sk-toggleable__content\"><pre>GradientBoostingClassifier(n_estimators=50)</pre></div></div></div></div></div>"
            ]
          },
          "metadata": {},
          "execution_count": 30
        }
      ]
    },
    {
      "cell_type": "code",
      "source": [
        "print(\"The score of the Gradient Boosting Classifier is:\", grad_boost.score(legit_test, mal_test) * 100)"
      ],
      "metadata": {
        "colab": {
          "base_uri": "https://localhost:8080/"
        },
        "id": "1WjJ3kFjmfwn",
        "outputId": "b0837959-e447-4545-e7b2-a5db4bac1149"
      },
      "execution_count": null,
      "outputs": [
        {
          "output_type": "stream",
          "name": "stdout",
          "text": [
            "The score of the Gradient Boosting Classifier is: 98.86997464686708\n"
          ]
        }
      ]
    }
  ]
}